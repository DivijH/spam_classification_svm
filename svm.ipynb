{
 "cells": [
  {
   "cell_type": "code",
   "execution_count": 1,
   "metadata": {},
   "outputs": [
    {
     "data": {
      "text/html": [
       "<div>\n",
       "<style scoped>\n",
       "    .dataframe tbody tr th:only-of-type {\n",
       "        vertical-align: middle;\n",
       "    }\n",
       "\n",
       "    .dataframe tbody tr th {\n",
       "        vertical-align: top;\n",
       "    }\n",
       "\n",
       "    .dataframe thead th {\n",
       "        text-align: right;\n",
       "    }\n",
       "</style>\n",
       "<table border=\"1\" class=\"dataframe\">\n",
       "  <thead>\n",
       "    <tr style=\"text-align: right;\">\n",
       "      <th></th>\n",
       "      <th>Unnamed: 0</th>\n",
       "      <th>Category</th>\n",
       "      <th>Message</th>\n",
       "      <th>Emoji</th>\n",
       "      <th>Mathemtical symbols</th>\n",
       "      <th>URL</th>\n",
       "      <th>shorthands</th>\n",
       "      <th>Dot</th>\n",
       "      <th>length</th>\n",
       "      <th>capitals</th>\n",
       "      <th>Num_Phone</th>\n",
       "      <th>Special characters</th>\n",
       "      <th>word_count</th>\n",
       "      <th>mis_spell</th>\n",
       "    </tr>\n",
       "  </thead>\n",
       "  <tbody>\n",
       "    <tr>\n",
       "      <th>0</th>\n",
       "      <td>0</td>\n",
       "      <td>ham</td>\n",
       "      <td>Go until jurong point, crazy.. Available only ...</td>\n",
       "      <td>0</td>\n",
       "      <td>0</td>\n",
       "      <td>0</td>\n",
       "      <td>3</td>\n",
       "      <td>3</td>\n",
       "      <td>111</td>\n",
       "      <td>0</td>\n",
       "      <td>0</td>\n",
       "      <td>0</td>\n",
       "      <td>20</td>\n",
       "      <td>1</td>\n",
       "    </tr>\n",
       "    <tr>\n",
       "      <th>1</th>\n",
       "      <td>1</td>\n",
       "      <td>ham</td>\n",
       "      <td>Ok lar... Joking wif u oni...</td>\n",
       "      <td>0</td>\n",
       "      <td>0</td>\n",
       "      <td>0</td>\n",
       "      <td>3</td>\n",
       "      <td>2</td>\n",
       "      <td>29</td>\n",
       "      <td>0</td>\n",
       "      <td>0</td>\n",
       "      <td>0</td>\n",
       "      <td>6</td>\n",
       "      <td>1</td>\n",
       "    </tr>\n",
       "    <tr>\n",
       "      <th>2</th>\n",
       "      <td>2</td>\n",
       "      <td>spam</td>\n",
       "      <td>Free entry in 2 a wkly comp to win FA Cup fina...</td>\n",
       "      <td>0</td>\n",
       "      <td>0</td>\n",
       "      <td>0</td>\n",
       "      <td>3</td>\n",
       "      <td>0</td>\n",
       "      <td>155</td>\n",
       "      <td>2</td>\n",
       "      <td>1</td>\n",
       "      <td>1</td>\n",
       "      <td>28</td>\n",
       "      <td>1</td>\n",
       "    </tr>\n",
       "    <tr>\n",
       "      <th>3</th>\n",
       "      <td>3</td>\n",
       "      <td>ham</td>\n",
       "      <td>U dun say so early hor... U c already then say...</td>\n",
       "      <td>0</td>\n",
       "      <td>0</td>\n",
       "      <td>0</td>\n",
       "      <td>4</td>\n",
       "      <td>2</td>\n",
       "      <td>49</td>\n",
       "      <td>2</td>\n",
       "      <td>0</td>\n",
       "      <td>0</td>\n",
       "      <td>11</td>\n",
       "      <td>1</td>\n",
       "    </tr>\n",
       "    <tr>\n",
       "      <th>4</th>\n",
       "      <td>4</td>\n",
       "      <td>ham</td>\n",
       "      <td>Nah I don't think he goes to usf, he lives aro...</td>\n",
       "      <td>0</td>\n",
       "      <td>0</td>\n",
       "      <td>0</td>\n",
       "      <td>1</td>\n",
       "      <td>0</td>\n",
       "      <td>61</td>\n",
       "      <td>1</td>\n",
       "      <td>0</td>\n",
       "      <td>0</td>\n",
       "      <td>13</td>\n",
       "      <td>1</td>\n",
       "    </tr>\n",
       "  </tbody>\n",
       "</table>\n",
       "</div>"
      ],
      "text/plain": [
       "   Unnamed: 0 Category                                            Message  \\\n",
       "0           0      ham  Go until jurong point, crazy.. Available only ...   \n",
       "1           1      ham                      Ok lar... Joking wif u oni...   \n",
       "2           2     spam  Free entry in 2 a wkly comp to win FA Cup fina...   \n",
       "3           3      ham  U dun say so early hor... U c already then say...   \n",
       "4           4      ham  Nah I don't think he goes to usf, he lives aro...   \n",
       "\n",
       "   Emoji  Mathemtical symbols  URL  shorthands  Dot  length  capitals  \\\n",
       "0      0                    0    0           3    3     111         0   \n",
       "1      0                    0    0           3    2      29         0   \n",
       "2      0                    0    0           3    0     155         2   \n",
       "3      0                    0    0           4    2      49         2   \n",
       "4      0                    0    0           1    0      61         1   \n",
       "\n",
       "   Num_Phone  Special characters  word_count  mis_spell  \n",
       "0          0                   0          20          1  \n",
       "1          0                   0           6          1  \n",
       "2          1                   1          28          1  \n",
       "3          0                   0          11          1  \n",
       "4          0                   0          13          1  "
      ]
     },
     "execution_count": 1,
     "metadata": {},
     "output_type": "execute_result"
    }
   ],
   "source": [
    "import sklearn\n",
    "import csv\n",
    "import pandas as pd\n",
    "from sklearn import datasets\n",
    "\n",
    "#Load dataset\n",
    "data= pd.read_csv(\"spamfinal.csv\")\n",
    "data.head()"
   ]
  },
  {
   "cell_type": "code",
   "execution_count": 2,
   "metadata": {},
   "outputs": [],
   "source": [
    "# Import train_test_split function\n",
    "from sklearn.model_selection import train_test_split\n",
    "\n",
    "X=data[['Emoji', 'Mathemtical symbols', 'URL', 'shorthands','Dot','length','capitals','Num_Phone','Special characters','word_count','mis_spell']]  # Features\n",
    "y=data['Category']  # Labels\n",
    "\n",
    "# Split dataset into training set and test set\n",
    "X_train, X_test, y_train, y_test = train_test_split(X, y, test_size=0.3) # 70% training and 30% test"
   ]
  },
  {
   "cell_type": "code",
   "execution_count": 3,
   "metadata": {},
   "outputs": [],
   "source": [
    "#Import svm model\n",
    "from sklearn import svm\n",
    "\n",
    "#Create a svm Classifier\n",
    "clf = svm.SVC(kernel='linear') # Linear Kernel\n",
    "\n",
    "#Train the model using the training sets\n",
    "clf.fit(X_train, y_train)\n",
    "\n",
    "#Predict the response for test dataset\n",
    "y_pred = clf.predict(X_test)"
   ]
  },
  {
   "cell_type": "code",
   "execution_count": 4,
   "metadata": {},
   "outputs": [
    {
     "name": "stdout",
     "output_type": "stream",
     "text": [
      "Accuracy: 0.944377990430622\n"
     ]
    }
   ],
   "source": [
    "#Import scikit-learn metrics module for accuracy calculation\n",
    "from sklearn import metrics\n",
    "\n",
    "# Model Accuracy: how often is the classifier correct?\n",
    "print(\"Accuracy:\",metrics.accuracy_score(y_test, y_pred))\n"
   ]
  },
  {
   "cell_type": "code",
   "execution_count": 5,
   "metadata": {},
   "outputs": [
    {
     "name": "stdout",
     "output_type": "stream",
     "text": [
      "Precision: 0.919794211266563\n",
      "Recall: 0.8297133379845532\n"
     ]
    }
   ],
   "source": [
    "from sklearn.metrics import accuracy_score, f1_score, precision_score, recall_score\n",
    "# Model Precision: what percentage of positive tuples are labeled as such?\n",
    "print(\"Precision:\",metrics.precision_score(y_test, y_pred,average=\"macro\"))\n",
    "\n",
    "# Model Recall: what percentage of positive tuples are labelled as such?\n",
    "print(\"Recall:\",metrics.recall_score(y_test, y_pred,average=\"macro\"))"
   ]
  },
  {
   "cell_type": "code",
   "execution_count": 10,
   "metadata": {},
   "outputs": [
    {
     "name": "stdout",
     "output_type": "stream",
     "text": [
      "Accuracy: 0.9465183058147882\n",
      "Precision 0.936412382506793\n",
      "recall 0.8224704011545554\n",
      "Accuracy: 0.9443696724988784\n",
      "Precision 0.9263165336451005\n",
      "recall 0.8341783731563519\n",
      "Accuracy: 0.9455741626794258\n",
      "Precision 0.9454074579435896\n",
      "recall 0.8094604750663452\n",
      "Accuracy: 0.9461883408071748\n",
      "Precision 0.9266504878411173\n",
      "recall 0.8418316733462958\n",
      "Accuracy: 0.9551971326164874\n",
      "Precision 0.9586640211640212\n",
      "recall 0.8445962732919254\n"
     ]
    }
   ],
   "source": [
    "from sklearn import metrics\n",
    "from sklearn.metrics import accuracy_score, f1_score, precision_score, recall_score, classification_report, confusion_matrix\n",
    "p=[]\n",
    "r=[]\n",
    "accuracy=[]\n",
    "t=[0.5,0.4,0.3,0.2,0.1]\n",
    "for i in t:\n",
    "    X_train, X_test, y_train, y_test = train_test_split(X, y, test_size=i)\n",
    "    #Create a Gaussian Classifier\n",
    "    clf=svm.SVC(kernel='linear')\n",
    "\n",
    "    #Train the model using the training sets y_pred=clf.predict(X_test)\n",
    "    clf.fit(X_train,y_train)\n",
    "\n",
    "    y_pred=clf.predict(X_test)\n",
    "    print(\"Accuracy:\",metrics.accuracy_score(y_test, y_pred))\n",
    "    accuracy.append(metrics.accuracy_score(y_test, y_pred))\n",
    "    p.append(precision_score(y_test, y_pred, average=\"macro\"))\n",
    "    r.append(recall_score(y_test, y_pred, average=\"macro\"))\n",
    "    print(\"Precision\",precision_score(y_test, y_pred, average=\"macro\"))\n",
    "    print(\"recall\",recall_score(y_test, y_pred, average=\"macro\"))     \n",
    "    "
   ]
  },
  {
   "cell_type": "code",
   "execution_count": 13,
   "metadata": {},
   "outputs": [
    {
     "data": {
      "image/png": "[encoded data removed]",
      "text/plain": [
       "<Figure size 432x288 with 1 Axes>"
      ]
     },
     "metadata": {
      "needs_background": "light"
     },
     "output_type": "display_data"
    }
   ],
   "source": [
    "#plotting precision and recall\n",
    "import matplotlib.pyplot as plt\n",
    "import numpy as np\n",
    "n_groups=5\n",
    "index = np.arange(n_groups)\n",
    "bar_width = 0.3\n",
    "opacity = 0.8\n",
    "rects1 = plt.bar(index, p, bar_width,\n",
    "                 alpha=opacity,\n",
    "                 color='g',\n",
    "                 label='precision')\n",
    "rects2 = plt.bar(index+bar_width, r, bar_width, alpha=opacity, color='b', label='recall')\n",
    "plt.xlabel('configurations')\n",
    "plt.ylabel('percentage to represent precision and recall')\n",
    "plt.title('Precision and Recall Values')\n",
    "plt.xticks(index+0.15, ('50:50', '60:40', '70:30', '80:20', '90:10'))\n",
    "plt.legend(loc=1)\n",
    " \n",
    "plt.tight_layout()\n",
    "plt.show()"
   ]
  },
  {
   "cell_type": "code",
   "execution_count": 12,
   "metadata": {},
   "outputs": [
    {
     "data": {
      "image/png": "[encoded data removed]",
      "text/plain": [
       "<Figure size 432x288 with 1 Axes>"
      ]
     },
     "metadata": {
      "needs_background": "light"
     },
     "output_type": "display_data"
    }
   ],
   "source": [
    "import matplotlib.pyplot as plt\n",
    "n_groups=5\n",
    "index = np.arange(n_groups)\n",
    "plt.plot(accuracy)\n",
    "plt.xlabel('configurations')\n",
    "plt.ylabel('Accuracy score')\n",
    "plt.title('Accuracy vs Configuration plot')\n",
    "plt.xticks(index+0.15, ('50:50', '60:40', '70:30', '80:20', '90:10'))\n",
    " \n",
    "plt.show()"
   ]
  },
  {
   "cell_type": "code",
   "execution_count": null,
   "metadata": {},
   "outputs": [],
   "source": []
  }
 ],
 "metadata": {
  "kernelspec": {
   "display_name": "Python 3",
   "language": "python",
   "name": "python3"
  },
  "language_info": {
   "codemirror_mode": {
    "name": "ipython",
    "version": 3
   },
   "file_extension": ".py",
   "mimetype": "text/x-python",
   "name": "python",
   "nbconvert_exporter": "python",
   "pygments_lexer": "ipython3",
   "version": "3.6.4"
  }
 },
 "nbformat": 4,
 "nbformat_minor": 2
}
